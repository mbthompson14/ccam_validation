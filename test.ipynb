{
 "cells": [
  {
   "cell_type": "code",
   "execution_count": 421,
   "metadata": {},
   "outputs": [],
   "source": [
    "# libraries\n",
    "import pandas as pd\n",
    "import os\n",
    "import glob\n",
    "import re"
   ]
  },
  {
   "cell_type": "code",
   "execution_count": 422,
   "metadata": {},
   "outputs": [],
   "source": [
    "# define generic task path/file names\n",
    "tasks = [\n",
    "    {'name': 'pgngs',\n",
    "    'path': 'pgngs_color_600ms_v11_eng',\n",
    "    'file_name': '_PGNGS_colors_600ms_v11r4_english_'},\n",
    "    {'name': 'fept',\n",
    "    'path': 'fept_mr_v8r12_cow_video',\n",
    "    'file_name': '_FEPT_MR_v8r12_pavlovia_'},\n",
    "    {'name': 'fam',\n",
    "    'path': 'familiarity_condition_feptv8r11',\n",
    "    'file_name': '_fam_cond_'},\n",
    "    {'name': 'syn',\n",
    "    'path': 'synonyms-task',\n",
    "    'file_name': '_Synonyms_'}\n",
    "    ]"
   ]
  },
  {
   "cell_type": "code",
   "execution_count": 423,
   "metadata": {},
   "outputs": [],
   "source": [
    "def print_files(participant_files):\n",
    "    print(\"Files found:\\n\")\n",
    "    for file in participant_files:\n",
    "        print(os.path.split(file)[1])"
   ]
  },
  {
   "cell_type": "code",
   "execution_count": 424,
   "metadata": {},
   "outputs": [],
   "source": [
    "def find_files(participant):\n",
    "    participant_files = []\n",
    "    for task in tasks:\n",
    "        file_name = str(participant) + task['file_name'] + \"*\"\n",
    "        participant_files.extend(glob.glob(os.path.join('..', task['path'], 'data', file_name)))\n",
    "    print_files(participant_files)\n",
    "    return participant_files"
   ]
  },
  {
   "cell_type": "code",
   "execution_count": 425,
   "metadata": {},
   "outputs": [],
   "source": [
    "def pgngs_validation(participant_files):\n",
    "    csv_files = []\n",
    "    for file in participant_files:\n",
    "        if re.search(tasks[0]['file_name'] + \".*.csv\", file):\n",
    "            csv_files.append(file)\n",
    "    try:        \n",
    "        pgngs_data_path = csv_files[0]  #TODO: method for choosing the most recent/most complete file\n",
    "        print(f\"\\nChecking PGNGS file: {os.path.split(pgngs_data_path)[1]} ...\")\n",
    "        pgngs_df = pd.read_csv(pgngs_data_path)\n",
    "        if len(pgngs_df) == 1375:\n",
    "            print(\"PGNGS: Task was finished.\")\n",
    "        else:\n",
    "            print(\"PGNGS: Task not finished. Check data file.\")\n",
    "        blocks = [False, False, False, False, False, False]\n",
    "        for i, block in enumerate(blocks):\n",
    "            if not all(pd.isna(pgngs_df[f'block{i+1}_resp.keys'])):\n",
    "                blocks[i] = True\n",
    "        if all(blocks):\n",
    "            print(\"PGNGS: All blocks have responses.\")\n",
    "        else:\n",
    "            print(\"PGNGS: One or more block is empty. Check data file.\")\n",
    "    except IndexError:\n",
    "        print(\"\\nPGNGS file not found.\")"
   ]
  },
  {
   "cell_type": "code",
   "execution_count": 426,
   "metadata": {},
   "outputs": [],
   "source": [
    "def fept_validation(participant_files):\n",
    "    csv_files = []\n",
    "    for file in participant_files:\n",
    "        if re.search(tasks[1]['file_name'] + \".*.csv\", file):\n",
    "            csv_files.append(file)\n",
    "    try:    \n",
    "        fept_data_path = csv_files[0]\n",
    "        print(f\"\\nChecking FEPT file: {os.path.split(fept_data_path)[1]} ...\")\n",
    "        fept_df = pd.read_csv(fept_data_path)\n",
    "        if len(fept_df) == 127:\n",
    "            print(\"FEPT: Task was finished.\")\n",
    "        else:\n",
    "            print(\"FEPT: Task not finished. Check data file.\")\n",
    "        if fept_df['key_resp_face.corr'].sum() >= 29:\n",
    "            print(f\"FEPT: Sufficient number of FACES correct: {fept_df['key_resp_face.corr'].sum():.0f}.\")\n",
    "        else:\n",
    "            print(\"FEPT: Insufficient number of FACES correct. Check data file.\")\n",
    "        if fept_df['key_resp_animal2.corr'].sum() >= 40:\n",
    "            print(f\"FEPT: Sufficient number of ANIMALS correct: {fept_df['key_resp_animal2.corr'].sum():.0f}.\")\n",
    "        else:\n",
    "            print(\"FEPT: Insufficient number of ANIMALS correct. Check data file.\")\n",
    "    except IndexError:\n",
    "        print(\"\\nFEPT file not found.\")"
   ]
  },
  {
   "cell_type": "code",
   "execution_count": 427,
   "metadata": {},
   "outputs": [],
   "source": [
    "def familiarity_validation(participant_files):\n",
    "    csv_files = []\n",
    "    for file in participant_files:\n",
    "        if re.search(tasks[2]['file_name'] + \".*.csv\", file):\n",
    "            csv_files.append(file)\n",
    "    try:    \n",
    "        fam_data_path = csv_files[0]  #TODO: method for choosing the most recent/most complete file\n",
    "        print(f\"\\nChecking FAMILIARITY file: {os.path.split(fam_data_path)[1]} ...\")\n",
    "        fam_df = pd.read_csv(fam_data_path)\n",
    "        if len(fam_df) == 24:\n",
    "            print(\"FAMILIARITY: Task was finished.\")\n",
    "        else:\n",
    "            print(\"FAMILIARITY: Task not finished. Check data file.\")\n",
    "        if fam_df['key_resp.keys'].nunique() > 1:\n",
    "            print(\"FAMILIARITY: Responses are varied.\")\n",
    "        else:\n",
    "            print(\"FAMILIARITY: Same letter pressed for every response. Check data file.\")\n",
    "        #TODO: check if fam was done on the same day as fept\n",
    "    except IndexError:\n",
    "        print(\"\\nFAMILIARITY file not found\")"
   ]
  },
  {
   "cell_type": "code",
   "execution_count": 428,
   "metadata": {},
   "outputs": [],
   "source": [
    "def synonyms_validation(participant_files):\n",
    "    csv_files = []\n",
    "    for file in participant_files:\n",
    "        if re.search(tasks[3]['file_name'] + \".*.csv\", file):\n",
    "            csv_files.append(file)\n",
    "    try:    \n",
    "        syn_data_path = csv_files[0]  #TODO: method for choosing the most recent/most complete file\n",
    "        print(f\"\\nChecking SYNONYMS file: {os.path.split(syn_data_path)[1]} ...\")\n",
    "        syn_df = pd.read_csv(syn_data_path)\n",
    "        if len(syn_df) == 43:\n",
    "            print(\"SYNONYMS: Task was finished.\")\n",
    "        else:\n",
    "            print(\"SYNONYMS: Task not finished. Check data file.\")\n",
    "\n",
    "        responses = syn_df['key_resp_2.keys'].dropna().reset_index(drop=True)\n",
    "        correct = syn_df['correct'].dropna().reset_index(drop=True)\n",
    "\n",
    "        score = 0\n",
    "        for i, response in enumerate(responses):\n",
    "            if response == 'comma':\n",
    "                responses[i] = ','\n",
    "            elif response == 'period':\n",
    "                responses[i] = '.'\n",
    "            if responses[i] == correct[i]:\n",
    "                score += 1\n",
    "\n",
    "        if score > 15 and score <= 40:\n",
    "            print(f\"SYNONYMS: Score was {score}.\")\n",
    "        else:\n",
    "            print(f\"SYNONYMS: Score was {score}. Check data file.\")\n",
    "    except IndexError:\n",
    "        print(\"\\nSYNONYMS file not found.\")"
   ]
  },
  {
   "cell_type": "code",
   "execution_count": 429,
   "metadata": {},
   "outputs": [],
   "source": [
    "def main():\n",
    "    participant = str(input(\"Enter participant screening number: \"))\n",
    "    participant_files = find_files(participant)\n",
    "    pgngs_validation(participant_files)\n",
    "    fept_validation(participant_files)\n",
    "    familiarity_validation(participant_files)\n",
    "    synonyms_validation(participant_files)"
   ]
  },
  {
   "cell_type": "code",
   "execution_count": 430,
   "metadata": {},
   "outputs": [
    {
     "name": "stdout",
     "output_type": "stream",
     "text": [
      "Files found:\n",
      "\n",
      "1057_PGNGS_colors_600ms_v11r4_english_2022-02-28_15h53.56.234.log.gz\n",
      "1057_PGNGS_colors_600ms_v11r4_english_2022-02-28_15h53.56.234.csv\n",
      "1057_FEPT_MR_v8r12_pavlovia_2022-02-28_15h32.20.785.csv\n",
      "1057_FEPT_MR_v8r12_pavlovia_2022-02-28_15h32.20.785.log.gz\n",
      "1057_fam_cond_2022-02-28_15h44.13.689.csv\n",
      "1057_fam_cond_2022-02-28_15h44.13.689.log.gz\n",
      "1057_Synonyms_2022-02-28_15h51.17.429.csv\n",
      "1057_Synonyms_2022-02-28_15h51.17.429.log.gz\n",
      "\n",
      "Checking PGNGS file: 1057_PGNGS_colors_600ms_v11r4_english_2022-02-28_15h53.56.234.csv ...\n",
      "PGNGS: Task was finished.\n",
      "PGNGS: All blocks have responses.\n",
      "\n",
      "Checking FEPT file: 1057_FEPT_MR_v8r12_pavlovia_2022-02-28_15h32.20.785.csv ...\n",
      "FEPT: Task was finished.\n",
      "FEPT: Sufficient number of FACES correct: 54.\n",
      "FEPT: Sufficient number of ANIMALS correct: 60.\n",
      "\n",
      "Checking FAMILIARITY file: 1057_fam_cond_2022-02-28_15h44.13.689.csv ...\n",
      "FAMILIARITY: Task was finished.\n",
      "FAMILIARITY: Responses are varied.\n",
      "\n",
      "Checking SYNONYMS file: 1057_Synonyms_2022-02-28_15h51.17.429.csv ...\n",
      "SYNONYMS: Task was finished.\n",
      "SYNONYMS: Score was 32.\n"
     ]
    }
   ],
   "source": [
    "main()"
   ]
  }
 ],
 "metadata": {
  "kernelspec": {
   "display_name": "Python 3",
   "language": "python",
   "name": "python3"
  },
  "language_info": {
   "codemirror_mode": {
    "name": "ipython",
    "version": 3
   },
   "file_extension": ".py",
   "mimetype": "text/x-python",
   "name": "python",
   "nbconvert_exporter": "python",
   "pygments_lexer": "ipython3",
   "version": "3.10.5"
  },
  "orig_nbformat": 4,
  "vscode": {
   "interpreter": {
    "hash": "949777d72b0d2535278d3dc13498b2535136f6dfe0678499012e853ee9abcab1"
   }
  }
 },
 "nbformat": 4,
 "nbformat_minor": 2
}
